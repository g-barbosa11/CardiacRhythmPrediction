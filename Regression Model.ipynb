{
  "nbformat": 4,
  "nbformat_minor": 0,
  "metadata": {
    "colab": {
      "name": "Model.ipynb",
      "provenance": []
    },
    "kernelspec": {
      "name": "python3",
      "display_name": "Python 3"
    },
    "language_info": {
      "name": "python"
    }
  },
  "cells": [
    {
      "cell_type": "markdown",
      "metadata": {
        "id": "HhoaG905rPmI"
      },
      "source": [
        "## Looking for the best approach\n"
      ]
    },
    {
      "cell_type": "code",
      "metadata": {
        "id": "fzIPV4VZYCHb"
      },
      "source": [
        "import pandas as pd\n",
        "import numpy as np"
      ],
      "execution_count": 211,
      "outputs": []
    },
    {
      "cell_type": "code",
      "metadata": {
        "colab": {
          "base_uri": "https://localhost:8080/",
          "height": 206
        },
        "id": "0hiQBfyRb0zT",
        "outputId": "68cb5c8b-75c8-44c0-f321-0d0085cc6520"
      },
      "source": [
        "df = pd.read_json(\"dados.json\")\n",
        "df.head()"
      ],
      "execution_count": 237,
      "outputs": [
        {
          "output_type": "execute_result",
          "data": {
            "text/html": [
              "<div>\n",
              "<style scoped>\n",
              "    .dataframe tbody tr th:only-of-type {\n",
              "        vertical-align: middle;\n",
              "    }\n",
              "\n",
              "    .dataframe tbody tr th {\n",
              "        vertical-align: top;\n",
              "    }\n",
              "\n",
              "    .dataframe thead th {\n",
              "        text-align: right;\n",
              "    }\n",
              "</style>\n",
              "<table border=\"1\" class=\"dataframe\">\n",
              "  <thead>\n",
              "    <tr style=\"text-align: right;\">\n",
              "      <th></th>\n",
              "      <th>ILLUM</th>\n",
              "      <th>HUMID</th>\n",
              "      <th>CO2</th>\n",
              "      <th>SOUND</th>\n",
              "      <th>TEMP</th>\n",
              "      <th>RYTHM</th>\n",
              "      <th>ID</th>\n",
              "    </tr>\n",
              "  </thead>\n",
              "  <tbody>\n",
              "    <tr>\n",
              "      <th>0</th>\n",
              "      <td>467.90</td>\n",
              "      <td>65.59</td>\n",
              "      <td>486.10</td>\n",
              "      <td>41.06</td>\n",
              "      <td>23.27</td>\n",
              "      <td>92.39</td>\n",
              "      <td>1</td>\n",
              "    </tr>\n",
              "    <tr>\n",
              "      <th>1</th>\n",
              "      <td>387.14</td>\n",
              "      <td>70.23</td>\n",
              "      <td>501.81</td>\n",
              "      <td>25.93</td>\n",
              "      <td>18.77</td>\n",
              "      <td>85.17</td>\n",
              "      <td>2</td>\n",
              "    </tr>\n",
              "    <tr>\n",
              "      <th>2</th>\n",
              "      <td>339.75</td>\n",
              "      <td>74.72</td>\n",
              "      <td>535.88</td>\n",
              "      <td>30.50</td>\n",
              "      <td>19.41</td>\n",
              "      <td>80.76</td>\n",
              "      <td>3</td>\n",
              "    </tr>\n",
              "    <tr>\n",
              "      <th>3</th>\n",
              "      <td>390.19</td>\n",
              "      <td>63.83</td>\n",
              "      <td>422.76</td>\n",
              "      <td>24.18</td>\n",
              "      <td>17.41</td>\n",
              "      <td>63.55</td>\n",
              "      <td>4</td>\n",
              "    </tr>\n",
              "    <tr>\n",
              "      <th>4</th>\n",
              "      <td>454.11</td>\n",
              "      <td>70.64</td>\n",
              "      <td>619.85</td>\n",
              "      <td>16.50</td>\n",
              "      <td>20.31</td>\n",
              "      <td>83.19</td>\n",
              "      <td>5</td>\n",
              "    </tr>\n",
              "  </tbody>\n",
              "</table>\n",
              "</div>"
            ],
            "text/plain": [
              "    ILLUM  HUMID     CO2  SOUND   TEMP  RYTHM  ID\n",
              "0  467.90  65.59  486.10  41.06  23.27  92.39   1\n",
              "1  387.14  70.23  501.81  25.93  18.77  85.17   2\n",
              "2  339.75  74.72  535.88  30.50  19.41  80.76   3\n",
              "3  390.19  63.83  422.76  24.18  17.41  63.55   4\n",
              "4  454.11  70.64  619.85  16.50  20.31  83.19   5"
            ]
          },
          "metadata": {},
          "execution_count": 237
        }
      ]
    },
    {
      "cell_type": "code",
      "metadata": {
        "id": "iz1Juf87hr89"
      },
      "source": [
        "df = df.drop(['ID'], axis=1)"
      ],
      "execution_count": 238,
      "outputs": []
    },
    {
      "cell_type": "code",
      "metadata": {
        "colab": {
          "base_uri": "https://localhost:8080/"
        },
        "id": "y82AGmg6cQ-a",
        "outputId": "71f78c05-9318-4eaa-821d-2279d2bb818c"
      },
      "source": [
        "df.info()"
      ],
      "execution_count": 239,
      "outputs": [
        {
          "output_type": "stream",
          "name": "stdout",
          "text": [
            "<class 'pandas.core.frame.DataFrame'>\n",
            "RangeIndex: 3200 entries, 0 to 3199\n",
            "Data columns (total 6 columns):\n",
            " #   Column  Non-Null Count  Dtype  \n",
            "---  ------  --------------  -----  \n",
            " 0   ILLUM   3200 non-null   float64\n",
            " 1   HUMID   3200 non-null   float64\n",
            " 2   CO2     3200 non-null   float64\n",
            " 3   SOUND   3200 non-null   float64\n",
            " 4   TEMP    3200 non-null   float64\n",
            " 5   RYTHM   3200 non-null   float64\n",
            "dtypes: float64(6)\n",
            "memory usage: 150.1 KB\n"
          ]
        }
      ]
    },
    {
      "cell_type": "code",
      "metadata": {
        "colab": {
          "base_uri": "https://localhost:8080/"
        },
        "id": "P8e5qiFqkkDZ",
        "outputId": "3a8b217d-19d7-4181-89f7-41b5c70adbf3"
      },
      "source": [
        "corr_matrix = df.corr()\n",
        "corr_matrix[\"RYTHM\"].sort_values(ascending=False)"
      ],
      "execution_count": 240,
      "outputs": [
        {
          "output_type": "execute_result",
          "data": {
            "text/plain": [
              "RYTHM    1.000000\n",
              "CO2      0.275289\n",
              "TEMP     0.249845\n",
              "SOUND    0.167734\n",
              "ILLUM    0.044763\n",
              "HUMID   -0.023406\n",
              "Name: RYTHM, dtype: float64"
            ]
          },
          "metadata": {},
          "execution_count": 240
        }
      ]
    },
    {
      "cell_type": "code",
      "metadata": {
        "colab": {
          "base_uri": "https://localhost:8080/"
        },
        "id": "-tLHUGawneFa",
        "outputId": "9cf81fdf-4085-465f-9a1b-cb23b42ca5b9"
      },
      "source": [
        "X = df.iloc[:,:-1].values\n",
        "y = df.iloc[:,-1].values"
      ],
      "execution_count": 273,
      "outputs": [
        {
          "output_type": "execute_result",
          "data": {
            "text/plain": [
              "3200"
            ]
          },
          "metadata": {},
          "execution_count": 273
        }
      ]
    },
    {
      "cell_type": "code",
      "metadata": {
        "id": "-jTu8TTegiP7"
      },
      "source": [
        "from sklearn.model_selection import train_test_split\n",
        "X_train, X_test, y_train, y_test = train_test_split(X,y,test_size=0.3, random_state=0)"
      ],
      "execution_count": 264,
      "outputs": []
    },
    {
      "cell_type": "code",
      "metadata": {
        "id": "BChivL0GnOf2"
      },
      "source": [
        "from sklearn.preprocessing import StandardScaler\n",
        "sc = StandardScaler()\n",
        "X_train = sc.fit_transform(X_train)\n",
        "X_test = sc.fit_transform(X_test)"
      ],
      "execution_count": 265,
      "outputs": []
    },
    {
      "cell_type": "code",
      "metadata": {
        "id": "qvqhZCXZT6Ly"
      },
      "source": [
        "from sklearn.linear_model import LinearRegression"
      ],
      "execution_count": 266,
      "outputs": []
    },
    {
      "cell_type": "code",
      "metadata": {
        "id": "tlMP1l9UT7ky"
      },
      "source": [
        " clf = LinearRegression()\n",
        " clf.fit(X_train,y_train)\n",
        " y_pred = clf.predict(X_test)"
      ],
      "execution_count": 267,
      "outputs": []
    },
    {
      "cell_type": "code",
      "metadata": {
        "colab": {
          "base_uri": "https://localhost:8080/"
        },
        "id": "KXZCWXfTT_iG",
        "outputId": "2db22657-6cbd-48f4-d5e8-f8b85c9554b4"
      },
      "source": [
        "from sklearn.metrics import r2_score\n",
        "r2_score(y_test, y_pred)"
      ],
      "execution_count": 268,
      "outputs": [
        {
          "output_type": "execute_result",
          "data": {
            "text/plain": [
              "0.1886887183537982"
            ]
          },
          "metadata": {},
          "execution_count": 268
        }
      ]
    },
    {
      "cell_type": "markdown",
      "metadata": {
        "id": "0xUWFtOqaz4_"
      },
      "source": [
        "# Predicting results"
      ]
    },
    {
      "cell_type": "code",
      "metadata": {
        "colab": {
          "base_uri": "https://localhost:8080/"
        },
        "id": "QQewzsCQZz57",
        "outputId": "4b7c8069-d840-475d-fe1b-054013ae4a4a"
      },
      "source": [
        "!wget https://raw.githubusercontent.com/maratonadev/desafio-2-2021/main/assets/answers.csv"
      ],
      "execution_count": 230,
      "outputs": [
        {
          "output_type": "stream",
          "name": "stdout",
          "text": [
            "--2021-11-24 00:45:13--  https://raw.githubusercontent.com/maratonadev/desafio-2-2021/main/assets/answers.csv\n",
            "Resolving raw.githubusercontent.com (raw.githubusercontent.com)... 185.199.111.133, 185.199.109.133, 185.199.110.133, ...\n",
            "Connecting to raw.githubusercontent.com (raw.githubusercontent.com)|185.199.111.133|:443... connected.\n",
            "HTTP request sent, awaiting response... 200 OK\n",
            "Length: 31556 (31K) [text/plain]\n",
            "Saving to: ‘answers.csv’\n",
            "\n",
            "\ranswers.csv           0%[                    ]       0  --.-KB/s               \ranswers.csv         100%[===================>]  30.82K  --.-KB/s    in 0.001s  \n",
            "\n",
            "2021-11-24 00:45:13 (39.6 MB/s) - ‘answers.csv’ saved [31556/31556]\n",
            "\n"
          ]
        }
      ]
    },
    {
      "cell_type": "code",
      "metadata": {
        "id": "EDzCeWyoZ5wI"
      },
      "source": [
        "test = pd.read_csv('answers.csv')\n",
        "test = test.drop(['ID'], axis=1)"
      ],
      "execution_count": 294,
      "outputs": []
    },
    {
      "cell_type": "code",
      "metadata": {
        "id": "2dpULwHFawAP"
      },
      "source": [
        "X_test = test.iloc[:,:-1].values"
      ],
      "execution_count": 286,
      "outputs": []
    },
    {
      "cell_type": "code",
      "metadata": {
        "id": "sRqVqs0tb1Qr"
      },
      "source": [
        "X_train = df.iloc[:,:-1].values\n",
        "y_train = df.iloc[:,-1].values"
      ],
      "execution_count": 287,
      "outputs": []
    },
    {
      "cell_type": "code",
      "metadata": {
        "id": "nFdBN4Lha8Ng"
      },
      "source": [
        "from sklearn.preprocessing import StandardScaler\n",
        "sc = StandardScaler()\n",
        "X_train = sc.fit_transform(X_train)\n",
        "X_test = sc.fit_transform(X_test)"
      ],
      "execution_count": 288,
      "outputs": []
    },
    {
      "cell_type": "code",
      "metadata": {
        "id": "3vqpy3h7bhEQ"
      },
      "source": [
        " clf = LinearRegression()\n",
        " clf.fit(X_train,y_train)\n",
        " y_pred = clf.predict(X_test)"
      ],
      "execution_count": 291,
      "outputs": []
    },
    {
      "cell_type": "code",
      "metadata": {
        "colab": {
          "base_uri": "https://localhost:8080/"
        },
        "id": "DQDRzfTocHGW",
        "outputId": "00296f0a-7d4b-4e72-eee9-80a285a5fb22"
      },
      "source": [
        "len(y_pred)"
      ],
      "execution_count": 284,
      "outputs": [
        {
          "output_type": "execute_result",
          "data": {
            "text/plain": [
              "800"
            ]
          },
          "metadata": {},
          "execution_count": 284
        }
      ]
    },
    {
      "cell_type": "code",
      "metadata": {
        "id": "9_uCIG5scXP1"
      },
      "source": [
        "ans = pd.read_csv('answers.csv')"
      ],
      "execution_count": 298,
      "outputs": []
    },
    {
      "cell_type": "code",
      "metadata": {
        "id": "F1NcqYelcz7m"
      },
      "source": [
        "ans['RYTHM'].replace({0.0:y_pred},inplace=True)"
      ],
      "execution_count": 300,
      "outputs": []
    },
    {
      "cell_type": "code",
      "metadata": {
        "id": "p_-7-kB-dCL_"
      },
      "source": [
        "ans.to_csv('Answers.csv',index=False)"
      ],
      "execution_count": 302,
      "outputs": []
    }
  ]
}